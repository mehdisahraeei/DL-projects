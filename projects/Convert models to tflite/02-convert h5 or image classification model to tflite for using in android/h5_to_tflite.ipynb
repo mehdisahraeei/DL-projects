{
 "cells": [
  {
   "cell_type": "markdown",
   "metadata": {},
   "source": [
    "# developer: Mohammad mehdi Sahraei"
   ]
  },
  {
   "cell_type": "markdown",
   "metadata": {
    "id": "pEue67zorMfW"
   },
   "source": [
    "### importing libraries"
   ]
  },
  {
   "cell_type": "code",
   "execution_count": 35,
   "metadata": {
    "id": "9i46ngpmkb_e"
   },
   "outputs": [],
   "source": [
    "import numpy as np\n",
    "from tensorflow import keras\n",
    "from keras.constraints import maxnorm\n",
    "from sklearn import preprocessing\n",
    "from sklearn.preprocessing import OneHotEncoder\n",
    "from keras.models import Sequential, load_model\n",
    "from keras.layers import Conv2D, MaxPool2D, Dense, Dropout, Flatten\n",
    "from keras.layers import BatchNormalization\n",
    "from keras.callbacks import EarlyStopping\n",
    "from sklearn.metrics import confusion_matrix\n",
    "from keras.utils import np_utils\n",
    "from keras.datasets import cifar10\n",
    "import matplotlib.pyplot as plt\n",
    "import pandas as pd\n",
    "import tensorflow as tf\n",
    "import seaborn as sns; sns.set()"
   ]
  },
  {
   "cell_type": "markdown",
   "metadata": {
    "id": "h6Sb9Ss7rWgZ"
   },
   "source": [
    "### for preparing"
   ]
  },
  {
   "cell_type": "code",
   "execution_count": 2,
   "metadata": {
    "colab": {
     "base_uri": "https://localhost:8080/"
    },
    "id": "Xrt8kxhwk0Vo",
    "outputId": "7763153c-54fc-4d7c-e696-adda27e4eeab"
   },
   "outputs": [
    {
     "name": "stdout",
     "output_type": "stream",
     "text": [
      "Downloading data from https://www.cs.toronto.edu/~kriz/cifar-10-python.tar.gz\n",
      "170498071/170498071 [==============================] - 2s 0us/step\n"
     ]
    }
   ],
   "source": [
    "#x is image , y = is label\n",
    "(X_train, y_train), (X_test, y_test) = cifar10.load_data()"
   ]
  },
  {
   "cell_type": "code",
   "execution_count": 3,
   "metadata": {
    "id": "RRO7FqB0mRhb"
   },
   "outputs": [],
   "source": [
    "# Normalize the inputs from 0-255 to between 0 and 1 by dividing by 255\n",
    "X_train = X_train.astype('float32')\n",
    "X_test = X_test.astype('float32')\n",
    "X_train = X_train / 255.0\n",
    "X_test = X_test / 255.0\n",
    "\n",
    "\n",
    "# One-hot encode outputs\n",
    "y_train = np_utils.to_categorical(y_train)\n",
    "y_test = np_utils.to_categorical(y_test)\n",
    "\n",
    "num_class = y_test.shape[1] #10\n"
   ]
  },
  {
   "cell_type": "code",
   "execution_count": 48,
   "metadata": {
    "colab": {
     "base_uri": "https://localhost:8080/"
    },
    "id": "e5VMUizJ6oWs",
    "outputId": "3a965116-b317-41ad-e974-8269ac22e53e"
   },
   "outputs": [
    {
     "data": {
      "text/plain": [
       "array([0., 0., 0., 0., 0., 0., 1., 0., 0., 0.], dtype=float32)"
      ]
     },
     "execution_count": 48,
     "metadata": {},
     "output_type": "execute_result"
    }
   ],
   "source": [
    "#One-hot encode\n",
    "y_train[0]"
   ]
  },
  {
   "cell_type": "markdown",
   "metadata": {
    "id": "ASEju93mrgFl"
   },
   "source": [
    "### for creating layers"
   ]
  },
  {
   "cell_type": "code",
   "execution_count": 4,
   "metadata": {
    "colab": {
     "base_uri": "https://localhost:8080/"
    },
    "id": "S6mxRHvKogS9",
    "outputId": "47b14ae9-3e46-4737-d114-1561e7d1d713"
   },
   "outputs": [
    {
     "name": "stdout",
     "output_type": "stream",
     "text": [
      "Model: \"sequential\"\n",
      "_________________________________________________________________\n",
      " Layer (type)                Output Shape              Param #   \n",
      "=================================================================\n",
      " conv2d (Conv2D)             (None, 32, 32, 32)        896       \n",
      "                                                                 \n",
      " dropout (Dropout)           (None, 32, 32, 32)        0         \n",
      "                                                                 \n",
      " batch_normalization (BatchN  (None, 32, 32, 32)       128       \n",
      " ormalization)                                                   \n",
      "                                                                 \n",
      " conv2d_1 (Conv2D)           (None, 32, 32, 64)        18496     \n",
      "                                                                 \n",
      " max_pooling2d (MaxPooling2D  (None, 16, 16, 64)       0         \n",
      " )                                                               \n",
      "                                                                 \n",
      " dropout_1 (Dropout)         (None, 16, 16, 64)        0         \n",
      "                                                                 \n",
      " batch_normalization_1 (Batc  (None, 16, 16, 64)       256       \n",
      " hNormalization)                                                 \n",
      "                                                                 \n",
      " conv2d_2 (Conv2D)           (None, 16, 16, 64)        36928     \n",
      "                                                                 \n",
      " max_pooling2d_1 (MaxPooling  (None, 8, 8, 64)         0         \n",
      " 2D)                                                             \n",
      "                                                                 \n",
      " dropout_2 (Dropout)         (None, 8, 8, 64)          0         \n",
      "                                                                 \n",
      " batch_normalization_2 (Batc  (None, 8, 8, 64)         256       \n",
      " hNormalization)                                                 \n",
      "                                                                 \n",
      " conv2d_3 (Conv2D)           (None, 8, 8, 128)         73856     \n",
      "                                                                 \n",
      " dropout_3 (Dropout)         (None, 8, 8, 128)         0         \n",
      "                                                                 \n",
      " batch_normalization_3 (Batc  (None, 8, 8, 128)        512       \n",
      " hNormalization)                                                 \n",
      "                                                                 \n",
      " flatten (Flatten)           (None, 8192)              0         \n",
      "                                                                 \n",
      " dropout_4 (Dropout)         (None, 8192)              0         \n",
      "                                                                 \n",
      " dense (Dense)               (None, 32)                262176    \n",
      "                                                                 \n",
      " dropout_5 (Dropout)         (None, 32)                0         \n",
      "                                                                 \n",
      " batch_normalization_4 (Batc  (None, 32)               128       \n",
      " hNormalization)                                                 \n",
      "                                                                 \n",
      " dense_1 (Dense)             (None, 10)                330       \n",
      "                                                                 \n",
      "=================================================================\n",
      "Total params: 393,962\n",
      "Trainable params: 393,322\n",
      "Non-trainable params: 640\n",
      "_________________________________________________________________\n"
     ]
    }
   ],
   "source": [
    "model = Sequential()\n",
    "model.add(Conv2D(32, (3,3), padding='same', input_shape=X_train.shape[1:], activation='relu'))\n",
    "model.add(Dropout(0.2)) # Dropout is used for turning off Neurons To prevent other neurons from becoming lazy\n",
    "model.add(BatchNormalization()) # BatchNormalization does normal result for each layer\n",
    "model.add(Conv2D(64, (3,3), padding='same', activation='relu'))\n",
    "model.add(MaxPool2D(2))\n",
    "model.add(Dropout(0.2))\n",
    "model.add(BatchNormalization())\n",
    "model.add(Conv2D(64, (3,3), padding='same', activation='relu'))\n",
    "model.add(MaxPool2D(2))\n",
    "model.add(Dropout(0.2))\n",
    "model.add(BatchNormalization())\n",
    "model.add(Conv2D(128, (3,3), padding='same', activation='relu'))\n",
    "model.add(Dropout(0.2))\n",
    "model.add(BatchNormalization())\n",
    "model.add(Flatten())\n",
    "model.add(Dropout(0.2))\n",
    "model.add(Dense(32, activation='relu'))\n",
    "model.add(Dropout(0.2))\n",
    "model.add(BatchNormalization())\n",
    "model.add(Dense(num_class, activation = 'softmax')) #softmax shows that which is the best result between outputs 0-1 \n",
    "\n",
    "\n",
    "model.compile(loss='categorical_crossentropy', optimizer = 'adam', metrics = ['accuracy']) # categorical_crossentropy: for revising loss\n",
    "\n",
    "model.summary() "
   ]
  },
  {
   "cell_type": "markdown",
   "metadata": {
    "id": "h_MHEQUarm2_"
   },
   "source": [
    "### training model"
   ]
  },
  {
   "cell_type": "code",
   "execution_count": 5,
   "metadata": {
    "colab": {
     "base_uri": "https://localhost:8080/"
    },
    "id": "SDQ7A_dWouBA",
    "outputId": "decb0aed-739e-40bc-f4ab-a177e369abb9"
   },
   "outputs": [
    {
     "name": "stdout",
     "output_type": "stream",
     "text": [
      "Epoch 1/30\n",
      "782/782 [==============================] - 21s 13ms/step - loss: 1.4886 - accuracy: 0.4688 - val_loss: 1.3339 - val_accuracy: 0.5407\n",
      "Epoch 2/30\n",
      "782/782 [==============================] - 8s 11ms/step - loss: 1.0486 - accuracy: 0.6318 - val_loss: 0.8487 - val_accuracy: 0.6974\n",
      "Epoch 3/30\n",
      "782/782 [==============================] - 8s 11ms/step - loss: 0.8969 - accuracy: 0.6893 - val_loss: 0.9277 - val_accuracy: 0.6835\n",
      "Epoch 4/30\n",
      "782/782 [==============================] - 8s 11ms/step - loss: 0.8094 - accuracy: 0.7189 - val_loss: 0.7740 - val_accuracy: 0.7306\n",
      "Epoch 5/30\n",
      "782/782 [==============================] - 8s 10ms/step - loss: 0.7500 - accuracy: 0.7392 - val_loss: 0.6846 - val_accuracy: 0.7620\n",
      "Epoch 6/30\n",
      "782/782 [==============================] - 8s 11ms/step - loss: 0.6995 - accuracy: 0.7561 - val_loss: 0.6701 - val_accuracy: 0.7625\n",
      "Epoch 7/30\n",
      "782/782 [==============================] - 8s 10ms/step - loss: 0.6594 - accuracy: 0.7699 - val_loss: 0.6660 - val_accuracy: 0.7726\n",
      "Epoch 8/30\n",
      "782/782 [==============================] - 8s 11ms/step - loss: 0.6349 - accuracy: 0.7794 - val_loss: 0.6214 - val_accuracy: 0.7873\n",
      "Epoch 9/30\n",
      "782/782 [==============================] - 8s 10ms/step - loss: 0.5957 - accuracy: 0.7930 - val_loss: 0.6185 - val_accuracy: 0.7897\n",
      "Epoch 10/30\n",
      "782/782 [==============================] - 8s 10ms/step - loss: 0.5787 - accuracy: 0.7971 - val_loss: 0.6271 - val_accuracy: 0.7853\n",
      "Epoch 11/30\n",
      "782/782 [==============================] - 8s 10ms/step - loss: 0.5544 - accuracy: 0.8061 - val_loss: 0.5757 - val_accuracy: 0.8031\n",
      "Epoch 12/30\n",
      "782/782 [==============================] - 8s 11ms/step - loss: 0.5403 - accuracy: 0.8115 - val_loss: 0.5692 - val_accuracy: 0.8064\n",
      "Epoch 13/30\n",
      "782/782 [==============================] - 8s 11ms/step - loss: 0.5215 - accuracy: 0.8175 - val_loss: 0.5931 - val_accuracy: 0.8019\n",
      "Epoch 14/30\n",
      "782/782 [==============================] - 8s 10ms/step - loss: 0.5114 - accuracy: 0.8210 - val_loss: 0.6103 - val_accuracy: 0.7953\n",
      "Epoch 15/30\n",
      "782/782 [==============================] - 8s 10ms/step - loss: 0.4965 - accuracy: 0.8266 - val_loss: 0.5834 - val_accuracy: 0.8054\n",
      "Epoch 16/30\n",
      "782/782 [==============================] - 8s 10ms/step - loss: 0.4858 - accuracy: 0.8313 - val_loss: 0.5993 - val_accuracy: 0.8028\n",
      "Epoch 17/30\n",
      "782/782 [==============================] - 8s 10ms/step - loss: 0.4742 - accuracy: 0.8331 - val_loss: 0.5285 - val_accuracy: 0.8250\n",
      "Epoch 18/30\n",
      "782/782 [==============================] - 8s 10ms/step - loss: 0.4609 - accuracy: 0.8371 - val_loss: 0.5551 - val_accuracy: 0.8156\n",
      "Epoch 19/30\n",
      "782/782 [==============================] - 8s 10ms/step - loss: 0.4497 - accuracy: 0.8426 - val_loss: 0.5552 - val_accuracy: 0.8119\n",
      "Epoch 20/30\n",
      "782/782 [==============================] - 11s 14ms/step - loss: 0.4491 - accuracy: 0.8411 - val_loss: 0.5798 - val_accuracy: 0.8087\n",
      "Epoch 21/30\n",
      "782/782 [==============================] - 9s 11ms/step - loss: 0.4362 - accuracy: 0.8454 - val_loss: 0.5853 - val_accuracy: 0.8069\n",
      "Epoch 22/30\n",
      "782/782 [==============================] - 8s 11ms/step - loss: 0.4274 - accuracy: 0.8485 - val_loss: 0.5693 - val_accuracy: 0.8192\n",
      "Epoch 23/30\n",
      "782/782 [==============================] - 8s 11ms/step - loss: 0.4228 - accuracy: 0.8501 - val_loss: 0.5550 - val_accuracy: 0.8159\n",
      "Epoch 24/30\n",
      "782/782 [==============================] - 10s 12ms/step - loss: 0.4129 - accuracy: 0.8542 - val_loss: 0.5211 - val_accuracy: 0.8289\n",
      "Epoch 25/30\n",
      "782/782 [==============================] - 9s 11ms/step - loss: 0.4137 - accuracy: 0.8528 - val_loss: 0.5474 - val_accuracy: 0.8152\n",
      "Epoch 26/30\n",
      "782/782 [==============================] - 10s 12ms/step - loss: 0.4041 - accuracy: 0.8565 - val_loss: 0.5132 - val_accuracy: 0.8307\n",
      "Epoch 27/30\n",
      "782/782 [==============================] - 8s 11ms/step - loss: 0.4004 - accuracy: 0.8599 - val_loss: 0.5311 - val_accuracy: 0.8271\n",
      "Epoch 28/30\n",
      "782/782 [==============================] - 8s 11ms/step - loss: 0.3931 - accuracy: 0.8595 - val_loss: 0.5276 - val_accuracy: 0.8243\n",
      "Epoch 29/30\n",
      "782/782 [==============================] - 9s 12ms/step - loss: 0.3871 - accuracy: 0.8623 - val_loss: 0.5345 - val_accuracy: 0.8286\n",
      "Epoch 30/30\n",
      "782/782 [==============================] - 8s 10ms/step - loss: 0.3740 - accuracy: 0.8674 - val_loss: 0.5387 - val_accuracy: 0.8294\n"
     ]
    }
   ],
   "source": [
    "# batch_size: for example = 50000/64 = 782\n",
    "history = model.fit(X_train, y_train, validation_data=(X_test, y_test), epochs=30, batch_size=64)"
   ]
  },
  {
   "cell_type": "markdown",
   "metadata": {
    "id": "4YW6F87CrzQJ"
   },
   "source": [
    "### Learning graph"
   ]
  },
  {
   "cell_type": "code",
   "execution_count": 6,
   "metadata": {
    "colab": {
     "base_uri": "https://localhost:8080/",
     "height": 355
    },
    "id": "ka8kNJ81r3pX",
    "outputId": "e10a1b99-3656-48d6-c659-a0a69b943761"
   },
   "outputs": [
    {
     "name": "stdout",
     "output_type": "stream",
     "text": [
      "loss\n",
      "accuracy\n",
      "val_loss\n",
      "val_accuracy\n"
     ]
    },
    {
     "data": {
      "text/plain": [
       "<matplotlib.axes._subplots.AxesSubplot at 0x7f92a4506b50>"
      ]
     },
     "execution_count": 6,
     "metadata": {},
     "output_type": "execute_result"
    },
    {
     "data": {
      "image/png": "[encoded data removed]",
      "text/plain": [
       "<Figure size 432x288 with 1 Axes>"
      ]
     },
     "metadata": {},
     "output_type": "display_data"
    }
   ],
   "source": [
    "for key,val in history.history.items():\n",
    "  print(key)\n",
    "\n",
    "pd.DataFrame(history.history).plot()"
   ]
  },
  {
   "cell_type": "markdown",
   "metadata": {
    "id": "8nd3GKDcsHBr"
   },
   "source": [
    "### test"
   ]
  },
  {
   "cell_type": "code",
   "execution_count": 16,
   "metadata": {
    "colab": {
     "base_uri": "https://localhost:8080/"
    },
    "id": "YulgSS0RsPmJ",
    "outputId": "c1c6164b-2c61-4d7f-9436-78a6e98af297"
   },
   "outputs": [
    {
     "name": "stdout",
     "output_type": "stream",
     "text": [
      "1/1 [==============================] - 0s 114ms/step\n"
     ]
    },
    {
     "data": {
      "text/plain": [
       "array([2.35271014e-04, 1.39737647e-04, 1.41549041e-03, 9.18602586e-01,\n",
       "       4.30407526e-04, 6.94392845e-02, 9.37398616e-03, 2.42810158e-04,\n",
       "       1.08963635e-04, 1.13300302e-05], dtype=float32)"
      ]
     },
     "execution_count": 16,
     "metadata": {},
     "output_type": "execute_result"
    }
   ],
   "source": [
    "labels = ['airplane', 'automobile', 'bird', 'cat', 'deer', 'dog', 'frog', 'horse', 'ship', 'truck']\n",
    "\n",
    "model.save('fisrtmodel.h5')\n",
    "loader = load_model('fisrtmodel.h5')\n",
    "\n",
    "loader.predict(X_test[0:10])[0]"
   ]
  },
  {
   "cell_type": "code",
   "execution_count": 17,
   "metadata": {
    "colab": {
     "base_uri": "https://localhost:8080/"
    },
    "id": "bSo7o_xIsdnz",
    "outputId": "55b684a7-a8e6-4a8a-f6e7-aac415e26a7e"
   },
   "outputs": [
    {
     "data": {
      "text/plain": [
       "array([0, 0, 0, 1, 0, 0, 0, 0, 0, 0])"
      ]
     },
     "execution_count": 17,
     "metadata": {},
     "output_type": "execute_result"
    }
   ],
   "source": [
    "y_test[0]"
   ]
  },
  {
   "cell_type": "code",
   "execution_count": 18,
   "metadata": {
    "colab": {
     "base_uri": "https://localhost:8080/",
     "height": 36
    },
    "id": "uf251Ihcsep8",
    "outputId": "d9f68819-8f1f-477b-b51b-1f21f5fbc78c"
   },
   "outputs": [
    {
     "data": {
      "application/vnd.google.colaboratory.intrinsic+json": {
       "type": "string"
      },
      "text/plain": [
       "'cat'"
      ]
     },
     "execution_count": 18,
     "metadata": {},
     "output_type": "execute_result"
    }
   ],
   "source": [
    "labels[3]"
   ]
  },
  {
   "cell_type": "markdown",
   "metadata": {
    "id": "ElSGi_0d6NDZ"
   },
   "source": [
    "### convert .h5 or image classification model to .tflite"
   ]
  },
  {
   "cell_type": "code",
   "execution_count": 46,
   "metadata": {
    "colab": {
     "base_uri": "https://localhost:8080/"
    },
    "id": "iHRzmkCTwWwu",
    "outputId": "9aaf7e9a-f207-43d3-ee0b-67e61e2ee891"
   },
   "outputs": [
    {
     "name": "stderr",
     "output_type": "stream",
     "text": [
      "WARNING:absl:Found untraced functions such as _jit_compiled_convolution_op, _jit_compiled_convolution_op, _jit_compiled_convolution_op, _jit_compiled_convolution_op while saving (showing 4 of 4). These functions will not be directly callable after loading.\n"
     ]
    }
   ],
   "source": [
    "# first way:\n",
    "\n",
    "model = tf.keras.models.load_model('/content/fisrtmodel.h5')\n",
    "tflite_converter = tf.lite.TFLiteConverter.from_keras_model(model)\n",
    "tflite_model = tflite_converter.convert()\n",
    "open(\"tf_lite_model.tflite\", \"wb\").write(tflite_model) \n",
    "\n",
    "# second way:\n",
    "\n",
    "# converter = tf.lite.TFLiteConverter.from_keras_model(model)\n",
    "# tflite_model = converter.convert()\n",
    "\n",
    "# with open(\"model.tflite\", 'wb') as f:\n",
    "#   f.write(tflite_model)"
   ]
  }
 ],
 "metadata": {
  "accelerator": "GPU",
  "colab": {
   "name": "Welcome To Colaboratory",
   "provenance": []
  },
  "gpuClass": "standard",
  "kernelspec": {
   "display_name": "Python 3 (ipykernel)",
   "language": "python",
   "name": "python3"
  },
  "language_info": {
   "codemirror_mode": {
    "name": "ipython",
    "version": 3
   },
   "file_extension": ".py",
   "mimetype": "text/x-python",
   "name": "python",
   "nbconvert_exporter": "python",
   "pygments_lexer": "ipython3",
   "version": "3.8.10"
  }
 },
 "nbformat": 4,
 "nbformat_minor": 1
}
